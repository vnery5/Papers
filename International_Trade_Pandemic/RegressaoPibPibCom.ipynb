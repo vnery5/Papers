{
 "cells": [
  {
   "cell_type": "code",
   "execution_count": 1,
   "metadata": {},
   "outputs": [],
   "source": [
    "import pandas as pd\n",
    "from sklearn.linear_model import LinearRegression\n",
    "import seaborn as sns\n",
    "from scipy import stats\n",
    "import matplotlib.pyplot as plt\n",
    "import matplotlib\n",
    "import numpy as np"
   ]
  },
  {
   "cell_type": "code",
   "execution_count": 2,
   "metadata": {},
   "outputs": [],
   "source": [
    "lm = LinearRegression()"
   ]
  },
  {
   "cell_type": "code",
   "execution_count": 3,
   "metadata": {},
   "outputs": [],
   "source": [
    "df = pd.read_excel(\"pib.xlsx\")"
   ]
  },
  {
   "cell_type": "code",
   "execution_count": 4,
   "metadata": {},
   "outputs": [
    {
     "data": {
      "text/html": [
       "<div>\n",
       "<style scoped>\n",
       "    .dataframe tbody tr th:only-of-type {\n",
       "        vertical-align: middle;\n",
       "    }\n",
       "\n",
       "    .dataframe tbody tr th {\n",
       "        vertical-align: top;\n",
       "    }\n",
       "\n",
       "    .dataframe thead th {\n",
       "        text-align: right;\n",
       "    }\n",
       "</style>\n",
       "<table border=\"1\" class=\"dataframe\">\n",
       "  <thead>\n",
       "    <tr style=\"text-align: right;\">\n",
       "      <th></th>\n",
       "      <th>year</th>\n",
       "      <th>pib_brasil</th>\n",
       "      <th>crescimento_pib_brasil</th>\n",
       "      <th>exportacao</th>\n",
       "      <th>crescimento_exportacao</th>\n",
       "      <th>importacao</th>\n",
       "      <th>crescimento_importacao</th>\n",
       "      <th>comercio_total</th>\n",
       "      <th>crescimento_comercio_total</th>\n",
       "      <th>pib_mundo</th>\n",
       "      <th>crescimento_pib_mundo</th>\n",
       "      <th>dummy_crise_2009</th>\n",
       "    </tr>\n",
       "  </thead>\n",
       "  <tbody>\n",
       "    <tr>\n",
       "      <th>0</th>\n",
       "      <td>1995</td>\n",
       "      <td>$1.374.313,50</td>\n",
       "      <td>0.1619</td>\n",
       "      <td>$97.410,32</td>\n",
       "      <td>0.0092</td>\n",
       "      <td>124120.8974</td>\n",
       "      <td>0.3233</td>\n",
       "      <td>$221.531,22</td>\n",
       "      <td>0.1640</td>\n",
       "      <td>3.087129e+13</td>\n",
       "      <td>0.110478</td>\n",
       "      <td>0</td>\n",
       "    </tr>\n",
       "    <tr>\n",
       "      <th>1</th>\n",
       "      <td>1996</td>\n",
       "      <td>$1.649.704,00</td>\n",
       "      <td>0.2004</td>\n",
       "      <td>$96.627,66</td>\n",
       "      <td>-0.0080</td>\n",
       "      <td>129855.9899</td>\n",
       "      <td>0.0462</td>\n",
       "      <td>$226.483,65</td>\n",
       "      <td>0.0224</td>\n",
       "      <td>3.155459e+13</td>\n",
       "      <td>0.022134</td>\n",
       "      <td>0</td>\n",
       "    </tr>\n",
       "    <tr>\n",
       "      <th>2</th>\n",
       "      <td>1997</td>\n",
       "      <td>$1.599.565,38</td>\n",
       "      <td>-0.0304</td>\n",
       "      <td>$107.762,02</td>\n",
       "      <td>0.1152</td>\n",
       "      <td>149353.6088</td>\n",
       "      <td>0.1501</td>\n",
       "      <td>$257.115,63</td>\n",
       "      <td>0.1353</td>\n",
       "      <td>3.143964e+13</td>\n",
       "      <td>-0.003643</td>\n",
       "      <td>0</td>\n",
       "    </tr>\n",
       "    <tr>\n",
       "      <th>3</th>\n",
       "      <td>1998</td>\n",
       "      <td>$1.532.996,00</td>\n",
       "      <td>-0.0416</td>\n",
       "      <td>$111.911,53</td>\n",
       "      <td>0.0385</td>\n",
       "      <td>148179.6836</td>\n",
       "      <td>-0.0079</td>\n",
       "      <td>$260.091,21</td>\n",
       "      <td>0.0116</td>\n",
       "      <td>3.137824e+13</td>\n",
       "      <td>-0.001953</td>\n",
       "      <td>0</td>\n",
       "    </tr>\n",
       "    <tr>\n",
       "      <th>4</th>\n",
       "      <td>1999</td>\n",
       "      <td>$1.481.144,63</td>\n",
       "      <td>-0.0338</td>\n",
       "      <td>$108.029,72</td>\n",
       "      <td>-0.0347</td>\n",
       "      <td>124453.4133</td>\n",
       "      <td>-0.1601</td>\n",
       "      <td>$232.483,14</td>\n",
       "      <td>-0.1061</td>\n",
       "      <td>3.254268e+13</td>\n",
       "      <td>0.037110</td>\n",
       "      <td>0</td>\n",
       "    </tr>\n",
       "  </tbody>\n",
       "</table>\n",
       "</div>"
      ],
      "text/plain": [
       "   year     pib_brasil  crescimento_pib_brasil   exportacao  \\\n",
       "0  1995  $1.374.313,50                  0.1619   $97.410,32   \n",
       "1  1996  $1.649.704,00                  0.2004   $96.627,66   \n",
       "2  1997  $1.599.565,38                 -0.0304  $107.762,02   \n",
       "3  1998  $1.532.996,00                 -0.0416  $111.911,53   \n",
       "4  1999  $1.481.144,63                 -0.0338  $108.029,72   \n",
       "\n",
       "   crescimento_exportacao   importacao  crescimento_importacao comercio_total  \\\n",
       "0                  0.0092  124120.8974                  0.3233    $221.531,22   \n",
       "1                 -0.0080  129855.9899                  0.0462    $226.483,65   \n",
       "2                  0.1152  149353.6088                  0.1501    $257.115,63   \n",
       "3                  0.0385  148179.6836                 -0.0079    $260.091,21   \n",
       "4                 -0.0347  124453.4133                 -0.1601    $232.483,14   \n",
       "\n",
       "   crescimento_comercio_total     pib_mundo  crescimento_pib_mundo  \\\n",
       "0                      0.1640  3.087129e+13               0.110478   \n",
       "1                      0.0224  3.155459e+13               0.022134   \n",
       "2                      0.1353  3.143964e+13              -0.003643   \n",
       "3                      0.0116  3.137824e+13              -0.001953   \n",
       "4                     -0.1061  3.254268e+13               0.037110   \n",
       "\n",
       "   dummy_crise_2009  \n",
       "0                 0  \n",
       "1                 0  \n",
       "2                 0  \n",
       "3                 0  \n",
       "4                 0  "
      ]
     },
     "execution_count": 4,
     "metadata": {},
     "output_type": "execute_result"
    }
   ],
   "source": [
    "df.head()"
   ]
  },
  {
   "cell_type": "code",
   "execution_count": 5,
   "metadata": {},
   "outputs": [
    {
     "data": {
      "text/html": [
       "<div>\n",
       "<style scoped>\n",
       "    .dataframe tbody tr th:only-of-type {\n",
       "        vertical-align: middle;\n",
       "    }\n",
       "\n",
       "    .dataframe tbody tr th {\n",
       "        vertical-align: top;\n",
       "    }\n",
       "\n",
       "    .dataframe thead th {\n",
       "        text-align: right;\n",
       "    }\n",
       "</style>\n",
       "<table border=\"1\" class=\"dataframe\">\n",
       "  <thead>\n",
       "    <tr style=\"text-align: right;\">\n",
       "      <th></th>\n",
       "      <th>year</th>\n",
       "      <th>crescimento_pib_brasil</th>\n",
       "      <th>crescimento_exportacao</th>\n",
       "      <th>crescimento_importacao</th>\n",
       "      <th>crescimento_comercio_total</th>\n",
       "      <th>crescimento_pib_mundo</th>\n",
       "      <th>dummy_crise_2009</th>\n",
       "    </tr>\n",
       "  </thead>\n",
       "  <tbody>\n",
       "    <tr>\n",
       "      <th>count</th>\n",
       "      <td>23.00000</td>\n",
       "      <td>23.000000</td>\n",
       "      <td>23.000000</td>\n",
       "      <td>23.000000</td>\n",
       "      <td>23.000000</td>\n",
       "      <td>23.000000</td>\n",
       "      <td>23.000000</td>\n",
       "    </tr>\n",
       "    <tr>\n",
       "      <th>mean</th>\n",
       "      <td>2006.00000</td>\n",
       "      <td>0.041878</td>\n",
       "      <td>0.064530</td>\n",
       "      <td>0.070735</td>\n",
       "      <td>0.066509</td>\n",
       "      <td>0.048925</td>\n",
       "      <td>0.043478</td>\n",
       "    </tr>\n",
       "    <tr>\n",
       "      <th>std</th>\n",
       "      <td>6.78233</td>\n",
       "      <td>0.071202</td>\n",
       "      <td>0.106873</td>\n",
       "      <td>0.156180</td>\n",
       "      <td>0.123990</td>\n",
       "      <td>0.054385</td>\n",
       "      <td>0.208514</td>\n",
       "    </tr>\n",
       "    <tr>\n",
       "      <th>min</th>\n",
       "      <td>1995.00000</td>\n",
       "      <td>-0.042400</td>\n",
       "      <td>-0.151400</td>\n",
       "      <td>-0.170500</td>\n",
       "      <td>-0.143600</td>\n",
       "      <td>-0.053991</td>\n",
       "      <td>0.000000</td>\n",
       "    </tr>\n",
       "    <tr>\n",
       "      <th>25%</th>\n",
       "      <td>2000.50000</td>\n",
       "      <td>-0.004000</td>\n",
       "      <td>-0.020350</td>\n",
       "      <td>-0.025050</td>\n",
       "      <td>-0.030050</td>\n",
       "      <td>0.018492</td>\n",
       "      <td>0.000000</td>\n",
       "    </tr>\n",
       "    <tr>\n",
       "      <th>50%</th>\n",
       "      <td>2006.00000</td>\n",
       "      <td>0.014300</td>\n",
       "      <td>0.063200</td>\n",
       "      <td>0.064000</td>\n",
       "      <td>0.053800</td>\n",
       "      <td>0.037110</td>\n",
       "      <td>0.000000</td>\n",
       "    </tr>\n",
       "    <tr>\n",
       "      <th>75%</th>\n",
       "      <td>2011.50000</td>\n",
       "      <td>0.101950</td>\n",
       "      <td>0.134150</td>\n",
       "      <td>0.180350</td>\n",
       "      <td>0.171550</td>\n",
       "      <td>0.096054</td>\n",
       "      <td>0.000000</td>\n",
       "    </tr>\n",
       "    <tr>\n",
       "      <th>max</th>\n",
       "      <td>2017.00000</td>\n",
       "      <td>0.200400</td>\n",
       "      <td>0.268500</td>\n",
       "      <td>0.346600</td>\n",
       "      <td>0.308400</td>\n",
       "      <td>0.126730</td>\n",
       "      <td>1.000000</td>\n",
       "    </tr>\n",
       "  </tbody>\n",
       "</table>\n",
       "</div>"
      ],
      "text/plain": [
       "             year  crescimento_pib_brasil  crescimento_exportacao  \\\n",
       "count    23.00000               23.000000               23.000000   \n",
       "mean   2006.00000                0.041878                0.064530   \n",
       "std       6.78233                0.071202                0.106873   \n",
       "min    1995.00000               -0.042400               -0.151400   \n",
       "25%    2000.50000               -0.004000               -0.020350   \n",
       "50%    2006.00000                0.014300                0.063200   \n",
       "75%    2011.50000                0.101950                0.134150   \n",
       "max    2017.00000                0.200400                0.268500   \n",
       "\n",
       "       crescimento_importacao  crescimento_comercio_total  \\\n",
       "count               23.000000                   23.000000   \n",
       "mean                 0.070735                    0.066509   \n",
       "std                  0.156180                    0.123990   \n",
       "min                 -0.170500                   -0.143600   \n",
       "25%                 -0.025050                   -0.030050   \n",
       "50%                  0.064000                    0.053800   \n",
       "75%                  0.180350                    0.171550   \n",
       "max                  0.346600                    0.308400   \n",
       "\n",
       "       crescimento_pib_mundo  dummy_crise_2009  \n",
       "count              23.000000         23.000000  \n",
       "mean                0.048925          0.043478  \n",
       "std                 0.054385          0.208514  \n",
       "min                -0.053991          0.000000  \n",
       "25%                 0.018492          0.000000  \n",
       "50%                 0.037110          0.000000  \n",
       "75%                 0.096054          0.000000  \n",
       "max                 0.126730          1.000000  "
      ]
     },
     "execution_count": 5,
     "metadata": {},
     "output_type": "execute_result"
    }
   ],
   "source": [
    "df.drop(columns = ['importacao','exportacao','pib_mundo'], inplace= True)\n",
    "df.describe()"
   ]
  },
  {
   "cell_type": "code",
   "execution_count": 6,
   "metadata": {},
   "outputs": [
    {
     "data": {
      "text/html": [
       "<div>\n",
       "<style scoped>\n",
       "    .dataframe tbody tr th:only-of-type {\n",
       "        vertical-align: middle;\n",
       "    }\n",
       "\n",
       "    .dataframe tbody tr th {\n",
       "        vertical-align: top;\n",
       "    }\n",
       "\n",
       "    .dataframe thead th {\n",
       "        text-align: right;\n",
       "    }\n",
       "</style>\n",
       "<table border=\"1\" class=\"dataframe\">\n",
       "  <thead>\n",
       "    <tr style=\"text-align: right;\">\n",
       "      <th></th>\n",
       "      <th>year</th>\n",
       "      <th>crescimento_pib_brasil</th>\n",
       "      <th>crescimento_exportacao</th>\n",
       "      <th>crescimento_importacao</th>\n",
       "      <th>crescimento_comercio_total</th>\n",
       "      <th>crescimento_pib_mundo</th>\n",
       "      <th>dummy_crise_2009</th>\n",
       "    </tr>\n",
       "  </thead>\n",
       "  <tbody>\n",
       "    <tr>\n",
       "      <th>year</th>\n",
       "      <td>1.000000</td>\n",
       "      <td>-0.171252</td>\n",
       "      <td>-0.144871</td>\n",
       "      <td>-0.206382</td>\n",
       "      <td>-0.192301</td>\n",
       "      <td>-0.080726</td>\n",
       "      <td>0.096424</td>\n",
       "    </tr>\n",
       "    <tr>\n",
       "      <th>crescimento_pib_brasil</th>\n",
       "      <td>-0.171252</td>\n",
       "      <td>1.000000</td>\n",
       "      <td>0.326049</td>\n",
       "      <td>0.665154</td>\n",
       "      <td>0.566216</td>\n",
       "      <td>0.546434</td>\n",
       "      <td>-0.011261</td>\n",
       "    </tr>\n",
       "    <tr>\n",
       "      <th>crescimento_exportacao</th>\n",
       "      <td>-0.144871</td>\n",
       "      <td>0.326049</td>\n",
       "      <td>1.000000</td>\n",
       "      <td>0.732477</td>\n",
       "      <td>0.898771</td>\n",
       "      <td>0.619496</td>\n",
       "      <td>-0.440442</td>\n",
       "    </tr>\n",
       "    <tr>\n",
       "      <th>crescimento_importacao</th>\n",
       "      <td>-0.206382</td>\n",
       "      <td>0.665154</td>\n",
       "      <td>0.732477</td>\n",
       "      <td>1.000000</td>\n",
       "      <td>0.956299</td>\n",
       "      <td>0.646177</td>\n",
       "      <td>-0.288694</td>\n",
       "    </tr>\n",
       "    <tr>\n",
       "      <th>crescimento_comercio_total</th>\n",
       "      <td>-0.192301</td>\n",
       "      <td>0.566216</td>\n",
       "      <td>0.898771</td>\n",
       "      <td>0.956299</td>\n",
       "      <td>1.000000</td>\n",
       "      <td>0.677614</td>\n",
       "      <td>-0.369401</td>\n",
       "    </tr>\n",
       "    <tr>\n",
       "      <th>crescimento_pib_mundo</th>\n",
       "      <td>-0.080726</td>\n",
       "      <td>0.546434</td>\n",
       "      <td>0.619496</td>\n",
       "      <td>0.646177</td>\n",
       "      <td>0.677614</td>\n",
       "      <td>1.000000</td>\n",
       "      <td>-0.402627</td>\n",
       "    </tr>\n",
       "    <tr>\n",
       "      <th>dummy_crise_2009</th>\n",
       "      <td>0.096424</td>\n",
       "      <td>-0.011261</td>\n",
       "      <td>-0.440442</td>\n",
       "      <td>-0.288694</td>\n",
       "      <td>-0.369401</td>\n",
       "      <td>-0.402627</td>\n",
       "      <td>1.000000</td>\n",
       "    </tr>\n",
       "  </tbody>\n",
       "</table>\n",
       "</div>"
      ],
      "text/plain": [
       "                                year  crescimento_pib_brasil  \\\n",
       "year                        1.000000               -0.171252   \n",
       "crescimento_pib_brasil     -0.171252                1.000000   \n",
       "crescimento_exportacao     -0.144871                0.326049   \n",
       "crescimento_importacao     -0.206382                0.665154   \n",
       "crescimento_comercio_total -0.192301                0.566216   \n",
       "crescimento_pib_mundo      -0.080726                0.546434   \n",
       "dummy_crise_2009            0.096424               -0.011261   \n",
       "\n",
       "                            crescimento_exportacao  crescimento_importacao  \\\n",
       "year                                     -0.144871               -0.206382   \n",
       "crescimento_pib_brasil                    0.326049                0.665154   \n",
       "crescimento_exportacao                    1.000000                0.732477   \n",
       "crescimento_importacao                    0.732477                1.000000   \n",
       "crescimento_comercio_total                0.898771                0.956299   \n",
       "crescimento_pib_mundo                     0.619496                0.646177   \n",
       "dummy_crise_2009                         -0.440442               -0.288694   \n",
       "\n",
       "                            crescimento_comercio_total  crescimento_pib_mundo  \\\n",
       "year                                         -0.192301              -0.080726   \n",
       "crescimento_pib_brasil                        0.566216               0.546434   \n",
       "crescimento_exportacao                        0.898771               0.619496   \n",
       "crescimento_importacao                        0.956299               0.646177   \n",
       "crescimento_comercio_total                    1.000000               0.677614   \n",
       "crescimento_pib_mundo                         0.677614               1.000000   \n",
       "dummy_crise_2009                             -0.369401              -0.402627   \n",
       "\n",
       "                            dummy_crise_2009  \n",
       "year                                0.096424  \n",
       "crescimento_pib_brasil             -0.011261  \n",
       "crescimento_exportacao             -0.440442  \n",
       "crescimento_importacao             -0.288694  \n",
       "crescimento_comercio_total         -0.369401  \n",
       "crescimento_pib_mundo              -0.402627  \n",
       "dummy_crise_2009                    1.000000  "
      ]
     },
     "execution_count": 6,
     "metadata": {},
     "output_type": "execute_result"
    }
   ],
   "source": [
    "df.corr()"
   ]
  },
  {
   "cell_type": "code",
   "execution_count": 7,
   "metadata": {},
   "outputs": [],
   "source": [
    "x = df[['crescimento_pib_brasil','crescimento_pib_mundo','dummy_crise_2009']]\n",
    "y = df['crescimento_comercio_total']"
   ]
  },
  {
   "cell_type": "code",
   "execution_count": 8,
   "metadata": {},
   "outputs": [],
   "source": [
    "lm.fit(x,y)\n",
    "lm.score(x,y)\n",
    "yhat1 = lm.predict(x)"
   ]
  },
  {
   "cell_type": "code",
   "execution_count": 9,
   "metadata": {},
   "outputs": [
    {
     "data": {
      "text/plain": [
       "0.544824683554267"
      ]
     },
     "execution_count": 9,
     "metadata": {},
     "output_type": "execute_result"
    }
   ],
   "source": [
    "lm.score(x,y)"
   ]
  },
  {
   "cell_type": "code",
   "execution_count": 10,
   "metadata": {},
   "outputs": [
    {
     "name": "stdout",
     "output_type": "stream",
     "text": [
      "0.004854832486906787\n"
     ]
    }
   ],
   "source": [
    "slope, intercept, r_value, p_value, std_err = stats.linregress(y,df['crescimento_pib_brasil'])\n",
    "print(p_value)"
   ]
  },
  {
   "cell_type": "code",
   "execution_count": 11,
   "metadata": {},
   "outputs": [
    {
     "name": "stdout",
     "output_type": "stream",
     "text": [
      "0.0003817737949492214\n"
     ]
    }
   ],
   "source": [
    "slope, intercept, r_value, p_value, std_err = stats.linregress(y,df['crescimento_pib_mundo'])\n",
    "print(p_value)"
   ]
  },
  {
   "cell_type": "code",
   "execution_count": 17,
   "metadata": {},
   "outputs": [
    {
     "data": {
      "image/png": "[encoded data removed]",
      "text/plain": [
       "<Figure size 432x288 with 1 Axes>"
      ]
     },
     "metadata": {
      "needs_background": "light"
     },
     "output_type": "display_data"
    }
   ],
   "source": [
    "ax1 = sns.regplot(df['crescimento_pib_mundo'],y)\n",
    "ax1 = sns.regplot(df['crescimento_pib_brasil'],y)"
   ]
  },
  {
   "cell_type": "code",
   "execution_count": 14,
   "metadata": {},
   "outputs": [
    {
     "data": {
      "text/plain": [
       "<matplotlib.axes._subplots.AxesSubplot at 0x20add55d408>"
      ]
     },
     "execution_count": 14,
     "metadata": {},
     "output_type": "execute_result"
    },
    {
     "data": {
      "image/png": "[encoded data removed]",
      "text/plain": [
       "<Figure size 432x288 with 1 Axes>"
      ]
     },
     "metadata": {
      "needs_background": "light"
     },
     "output_type": "display_data"
    }
   ],
   "source": [
    "ax1 = sns.distplot(x, hist = False, color = 'r', label = 'Real Values')\n",
    "sns.distplot(yhat1, hist = False, color = 'g', label = 'Modeled Values', ax = ax1)"
   ]
  },
  {
   "cell_type": "code",
   "execution_count": 15,
   "metadata": {},
   "outputs": [],
   "source": [
    "brasil = [-5.5, -5.3, -5, -4, -3.3, -3]\n",
    "#FMI, Economist Intelligence Unit, \n",
    "mundo = [-3, -2.5]\n",
    "\n",
    "meanbr = 0\n",
    "meanwor = 0\n",
    "\n",
    "for n in brasil:\n",
    "    meanbr=meanbr+n\n",
    "meanbr=meanbr/len(brasil)\n",
    "\n",
    "for n in mundo:\n",
    "    meanwor=meanwor+n\n",
    "meanwor=meanwor/len(mundo)\n",
    "\n",
    "\n",
    "m= np.array([[meanbr,meanwor,1]])"
   ]
  },
  {
   "cell_type": "code",
   "execution_count": 16,
   "metadata": {},
   "outputs": [
    {
     "data": {
      "text/plain": [
       "array([-5.26775508])"
      ]
     },
     "execution_count": 16,
     "metadata": {},
     "output_type": "execute_result"
    }
   ],
   "source": [
    "yhat2=lm.predict(m)\n",
    "yhat2"
   ]
  }
 ],
 "metadata": {
  "kernelspec": {
   "display_name": "Python 3",
   "language": "python",
   "name": "python3"
  },
  "language_info": {
   "codemirror_mode": {
    "name": "ipython",
    "version": 3
   },
   "file_extension": ".py",
   "mimetype": "text/x-python",
   "name": "python",
   "nbconvert_exporter": "python",
   "pygments_lexer": "ipython3",
   "version": "3.7.6"
  }
 },
 "nbformat": 4,
 "nbformat_minor": 4
}
