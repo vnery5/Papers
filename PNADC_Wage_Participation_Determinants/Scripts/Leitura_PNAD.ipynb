{
 "metadata": {
  "language_info": {
   "codemirror_mode": {
    "name": "ipython",
    "version": 3
   },
   "file_extension": ".py",
   "mimetype": "text/x-python",
   "name": "python",
   "nbconvert_exporter": "python",
   "pygments_lexer": "ipython3",
   "version": "3.7.7-final"
  },
  "orig_nbformat": 2,
  "kernelspec": {
   "name": "python3",
   "display_name": "Python 3.7.7 64-bit ('myenv': conda)",
   "metadata": {
    "interpreter": {
     "hash": "8b633cbbc14e145906599cefe47c3dba10dc0e2c3bc4a9e7fbbaa016a7f81938"
    }
   }
  }
 },
 "nbformat": 4,
 "nbformat_minor": 2,
 "cells": [
  {
   "cell_type": "code",
   "execution_count": 1,
   "source": [
    "##Importando os pacotes e módulos necessários\n",
    "import pandas as pd"
   ],
   "outputs": [],
   "metadata": {}
  },
  {
   "cell_type": "code",
   "execution_count": 18,
   "source": [
    "## Lendo o df com chunks (acelera o processo e consome menos memórias) e juntando apenas os dados da região centro-oeste\n",
    "# Verifique se o painel está no mesmo diretório deste notebook!\n",
    "df = pd.DataFrame()\n",
    "centro_oeste = [\"Mato Grosso do Sul\", \"Mato Grosso\", \"Goiás\", \"Distrito Federal\"]\n",
    "centro_oeste_ids = [50, 51, 52, 53]\n",
    "\n",
    "## Para cada 10.000 linhas no arquivo, salvar apenas as referentes ao Centro-Oeste (temp_df)\n",
    "## e salvar todas as observações em outro dataframe (df)\n",
    "for chunk in pd.read_stata('PNAD_painel_6_rs.dta', chunksize = 10000):\n",
    "    temp_df = chunk.loc[chunk['UF'].isin(centro_oeste_ids)]\n",
    "    df = pd.concat([df, temp_df], ignore_index = True)"
   ],
   "outputs": [],
   "metadata": {}
  },
  {
   "cell_type": "code",
   "execution_count": 27,
   "source": [
    "## Vendo o total de linhas (observações): 272.698\n",
    "df.groupby('UF')['UF'].count()"
   ],
   "outputs": [
    {
     "output_type": "execute_result",
     "data": {
      "text/plain": [
       "UF\n",
       "50    59498\n",
       "51    69894\n",
       "52    93400\n",
       "53    49906\n",
       "Name: UF, dtype: int64"
      ]
     },
     "metadata": {},
     "execution_count": 27
    }
   ],
   "metadata": {}
  },
  {
   "cell_type": "code",
   "execution_count": 10,
   "source": [
    "## Lendo as labels das variáveis (opcional)\n",
    "labels = pd.read_excel('dicionario_das_variaveis_microdados_PNADC_maio_2015.xlsx',sheet_name='Planilha1')\n",
    "\n",
    "# Forma de dicionário\n",
    "labels_dict = pd.Series(labels.Label_80.values,index=labels.Variavel).to_dict()"
   ],
   "outputs": [],
   "metadata": {}
  },
  {
   "cell_type": "code",
   "execution_count": 16,
   "source": [
    "## exportando como um novo arquivo\n",
    "df.to_stata(\"pnad_centro_oeste.dta\", variable_labels=labels_dict)"
   ],
   "outputs": [],
   "metadata": {}
  }
 ]
}